{
  "cells": [
    {
      "cell_type": "markdown",
      "metadata": {
        "id": "PGHqjtNVTpgk"
      },
      "source": [
        "#Food-Nutrition Recognition using TensorFlow (CNN Model Inception V3)"
      ]
    },
    {
      "cell_type": "markdown",
      "metadata": {
        "id": "j4pqYPhqQKSc"
      },
      "source": [
        "We will build image recognition using CNN models (Inception V3), we’re utilizing TensorFlow for efficient data processing and Keras for the accurate recognition of image scans. TensorFlow provides powerful tools for handling and manipulating data, while Keras offers a user-friendly interface for building and training neural networks. Our dataset, sourced from Kaggle, encompasses a diverse range of images, including vegetables, fruits, and Indonesian food. This dataset enables us to train our models comprehensively and ensure robust performance across various food categories."
      ]
    },
    {
      "cell_type": "code",
      "execution_count": null,
      "metadata": {
        "colab": {
          "base_uri": "https://localhost:8080/",
          "height": 304
        },
        "id": "D5wz0DBE7547",
        "outputId": "cba682c6-5798-40fb-e498-e65ff407b4bd"
      },
      "outputs": [
        {
          "output_type": "error",
          "ename": "ValueError",
          "evalue": "mount failed",
          "traceback": [
            "\u001b[0;31m---------------------------------------------------------------------------\u001b[0m",
            "\u001b[0;31mValueError\u001b[0m                                Traceback (most recent call last)",
            "\u001b[0;32m<ipython-input-1-d5df0069828e>\u001b[0m in \u001b[0;36m<cell line: 2>\u001b[0;34m()\u001b[0m\n\u001b[1;32m      1\u001b[0m \u001b[0;32mfrom\u001b[0m \u001b[0mgoogle\u001b[0m\u001b[0;34m.\u001b[0m\u001b[0mcolab\u001b[0m \u001b[0;32mimport\u001b[0m \u001b[0mdrive\u001b[0m\u001b[0;34m\u001b[0m\u001b[0;34m\u001b[0m\u001b[0m\n\u001b[0;32m----> 2\u001b[0;31m \u001b[0mdrive\u001b[0m\u001b[0;34m.\u001b[0m\u001b[0mmount\u001b[0m\u001b[0;34m(\u001b[0m\u001b[0;34m'/content/drive'\u001b[0m\u001b[0;34m)\u001b[0m\u001b[0;34m\u001b[0m\u001b[0;34m\u001b[0m\u001b[0m\n\u001b[0m",
            "\u001b[0;32m/usr/local/lib/python3.10/dist-packages/google/colab/drive.py\u001b[0m in \u001b[0;36mmount\u001b[0;34m(mountpoint, force_remount, timeout_ms, readonly)\u001b[0m\n\u001b[1;32m     98\u001b[0m \u001b[0;32mdef\u001b[0m \u001b[0mmount\u001b[0m\u001b[0;34m(\u001b[0m\u001b[0mmountpoint\u001b[0m\u001b[0;34m,\u001b[0m \u001b[0mforce_remount\u001b[0m\u001b[0;34m=\u001b[0m\u001b[0;32mFalse\u001b[0m\u001b[0;34m,\u001b[0m \u001b[0mtimeout_ms\u001b[0m\u001b[0;34m=\u001b[0m\u001b[0;36m120000\u001b[0m\u001b[0;34m,\u001b[0m \u001b[0mreadonly\u001b[0m\u001b[0;34m=\u001b[0m\u001b[0;32mFalse\u001b[0m\u001b[0;34m)\u001b[0m\u001b[0;34m:\u001b[0m\u001b[0;34m\u001b[0m\u001b[0;34m\u001b[0m\u001b[0m\n\u001b[1;32m     99\u001b[0m   \u001b[0;34m\"\"\"Mount your Google Drive at the specified mountpoint path.\"\"\"\u001b[0m\u001b[0;34m\u001b[0m\u001b[0;34m\u001b[0m\u001b[0m\n\u001b[0;32m--> 100\u001b[0;31m   return _mount(\n\u001b[0m\u001b[1;32m    101\u001b[0m       \u001b[0mmountpoint\u001b[0m\u001b[0;34m,\u001b[0m\u001b[0;34m\u001b[0m\u001b[0;34m\u001b[0m\u001b[0m\n\u001b[1;32m    102\u001b[0m       \u001b[0mforce_remount\u001b[0m\u001b[0;34m=\u001b[0m\u001b[0mforce_remount\u001b[0m\u001b[0;34m,\u001b[0m\u001b[0;34m\u001b[0m\u001b[0;34m\u001b[0m\u001b[0m\n",
            "\u001b[0;32m/usr/local/lib/python3.10/dist-packages/google/colab/drive.py\u001b[0m in \u001b[0;36m_mount\u001b[0;34m(mountpoint, force_remount, timeout_ms, ephemeral, readonly)\u001b[0m\n\u001b[1;32m    280\u001b[0m             \u001b[0;34m'https://research.google.com/colaboratory/faq.html#drive-timeout'\u001b[0m\u001b[0;34m\u001b[0m\u001b[0;34m\u001b[0m\u001b[0m\n\u001b[1;32m    281\u001b[0m         )\n\u001b[0;32m--> 282\u001b[0;31m       \u001b[0;32mraise\u001b[0m \u001b[0mValueError\u001b[0m\u001b[0;34m(\u001b[0m\u001b[0;34m'mount failed'\u001b[0m \u001b[0;34m+\u001b[0m \u001b[0mextra_reason\u001b[0m\u001b[0;34m)\u001b[0m\u001b[0;34m\u001b[0m\u001b[0;34m\u001b[0m\u001b[0m\n\u001b[0m\u001b[1;32m    283\u001b[0m     \u001b[0;32melif\u001b[0m \u001b[0mcase\u001b[0m \u001b[0;34m==\u001b[0m \u001b[0;36m4\u001b[0m\u001b[0;34m:\u001b[0m\u001b[0;34m\u001b[0m\u001b[0;34m\u001b[0m\u001b[0m\n\u001b[1;32m    284\u001b[0m       \u001b[0;31m# Terminate the DriveFS binary before killing bash.\u001b[0m\u001b[0;34m\u001b[0m\u001b[0;34m\u001b[0m\u001b[0m\n",
            "\u001b[0;31mValueError\u001b[0m: mount failed"
          ]
        }
      ],
      "source": [
        "from google.colab import drive\n",
        "drive.mount('/content/drive')"
      ]
    },
    {
      "cell_type": "code",
      "execution_count": null,
      "metadata": {
        "id": "11otvaE8S1mL"
      },
      "outputs": [],
      "source": [
        "#Import Dependencies\n",
        "import numpy as np\n",
        "import pandas as pd\n",
        "import matplotlib.pyplot as plt\n",
        "import seaborn as sns\n",
        "import tensorflow as tf\n",
        "import keras\n",
        "import warnings\n",
        "import os\n",
        "import cv2\n",
        "import random\n",
        "import csv\n",
        "import glob\n",
        "warnings.filterwarnings(\"ignore\")\n",
        "from sklearn import cluster\n",
        "from PIL import Image\n",
        "import tensorflow.keras.backend as be\n",
        "from tensorflow.keras import models\n",
        "from tensorflow.keras.preprocessing import image\n",
        "from skimage.io import imread\n",
        "from sklearn import cluster\n",
        "from sklearn.metrics import confusion_matrix, ConfusionMatrixDisplay\n",
        "from tensorflow.keras.preprocessing.image import ImageDataGenerator\n",
        "from tensorflow.keras.applications.inception_v3 import InceptionV3\n",
        "from tensorflow.keras.layers import GlobalAveragePooling2D\n",
        "from tensorflow.keras.layers import Dense, Dropout\n",
        "from tensorflow.keras import regularizers\n",
        "from tensorflow.keras.regularizers import l2\n",
        "from tensorflow.keras.models import Model\n",
        "from tensorflow.keras.optimizers import SGD\n",
        "from tensorflow.keras.callbacks import ModelCheckpoint, CSVLogger\n",
        "from tensorflow.keras.models import load_model\n",
        "be.clear_session()"
      ]
    },
    {
      "cell_type": "markdown",
      "metadata": {
        "id": "oGFCO7egUXxW"
      },
      "source": [
        "##Image Processing"
      ]
    },
    {
      "cell_type": "markdown",
      "metadata": {
        "id": "VA9D9NxLUhd4"
      },
      "source": [
        "Before we go to diving in our dataset, let's take one pics to understand the data"
      ]
    },
    {
      "cell_type": "code",
      "execution_count": null,
      "metadata": {
        "id": "_UrwHdUiUqYJ"
      },
      "outputs": [],
      "source": [
        "img = plt.imread('/content/drive/MyDrive/Dataset Capstone/train/Anggur/Image_16.jpg')\n",
        "dims = np.shape(img)\n",
        "dims"
      ]
    },
    {
      "cell_type": "code",
      "execution_count": null,
      "metadata": {
        "id": "ZsAy1PmNU1vE"
      },
      "outputs": [],
      "source": [
        "matrix = np.reshape(img, (dims[0] * dims[1], dims[2]))\n",
        "print(np.shape(matrix))"
      ]
    },
    {
      "cell_type": "code",
      "execution_count": null,
      "metadata": {
        "id": "qsd0gmYIVPs3"
      },
      "outputs": [],
      "source": [
        "plt.imshow(img)\n",
        "print(\"Shape: \", dims[:2])\n",
        "print('Color Channels: ', dims[2])\n",
        "print('Min Color Depth: {}'.format(np.min(img)))\n",
        "print('Max Color Depth: {}'.format(np.max(img)))"
      ]
    },
    {
      "cell_type": "code",
      "execution_count": null,
      "metadata": {
        "id": "Cx-pyX0zVw2E"
      },
      "outputs": [],
      "source": [
        "sns.distplot(matrix[:,0], bins=20,color=\"purple\",hist_kws=dict(alpha=0.3))\n",
        "sns.distplot(matrix[:,1], bins=20,color=\"green\",hist_kws=dict(alpha=0.35))\n",
        "sns.distplot(matrix[:,2], bins=20,color=\"pink\",hist_kws=dict(alpha=0.2))\n",
        "plt.show()"
      ]
    },
    {
      "cell_type": "markdown",
      "metadata": {
        "id": "7xrOkFy0WVDu"
      },
      "source": [
        "This histogram provides an overview of the pixel value distribution and the contrast between these two color channels, allowing you to understand how color information is distributed within the image. By examining this histogram, you can explore the relationship between different color channels and gain deeper insights into the visual characteristics of the image you are analyzing."
      ]
    },
    {
      "cell_type": "code",
      "execution_count": null,
      "metadata": {
        "id": "bYN-I8qmWWHE"
      },
      "outputs": [],
      "source": [
        "histogram = plt.hist2d(matrix[:,1] , matrix[:,2] , bins = (50,50))\n",
        "plt.xlabel(\"Green Channel\")\n",
        "plt.ylabel(\"Blue Channel\")\n",
        "plt.show()"
      ]
    },
    {
      "cell_type": "markdown",
      "metadata": {
        "id": "tJkde_CNWiVa"
      },
      "source": [
        "The pixels within the green and blue bands exhibit correlation, as indicated by their overlapping in the graph above, and usually result in discernible imagery. Adjustments such as scaling or thresholding may be necessary for raw band differences.\n",
        "\n",
        "\n",
        "\n",
        "\n",
        "\n"
      ]
    },
    {
      "cell_type": "markdown",
      "metadata": {
        "id": "10BJZipiWzH4"
      },
      "source": [
        "Image data encompasses variances arising from variations in scene resolutions, pixel intensities within an image, and the surrounding environment during image capture. This domain of image processing holds significant importance in the contemporary era, especially with the emergence of Artificial Intelligence. From motion detection to intricate systems in autonomous vehicles, research in this field demands extensive effort and represents rapidly expanding domains within computer vision."
      ]
    },
    {
      "cell_type": "code",
      "execution_count": null,
      "metadata": {
        "id": "dXAa3ta6W0Hg"
      },
      "outputs": [],
      "source": [
        "n_vals = [2, 4, 6, 8]\n",
        "plt.figure(figsize=(12, 8))\n",
        "\n",
        "for i, n in enumerate(n_vals):\n",
        "    kmeans = cluster.KMeans(n_clusters=n)  # Modifikasi disini\n",
        "    clustered = kmeans.fit_predict(matrix)\n",
        "    dims = np.shape(img)\n",
        "    clustered_img = np.reshape(clustered, (dims[0], dims[1]))\n",
        "    plt.subplot(2, 2, i+1)\n",
        "    plt.title(\"n = {}\".format(n), pad=10, size=18)\n",
        "    plt.imshow(clustered_img)\n",
        "\n",
        "plt.tight_layout()\n",
        "plt.show()"
      ]
    },
    {
      "cell_type": "markdown",
      "metadata": {
        "id": "HugfJdXiXVht"
      },
      "source": [
        "Well Done! Now, let's get to the next step"
      ]
    },
    {
      "cell_type": "markdown",
      "metadata": {
        "id": "1pwMoqYNXc7e"
      },
      "source": [
        "##Explanatory Data Analysis"
      ]
    },
    {
      "cell_type": "code",
      "execution_count": null,
      "metadata": {
        "id": "Dwoyc04wXiLD"
      },
      "outputs": [],
      "source": [
        "#path train\n",
        "train_path = '/content/drive/MyDrive/Dataset Capstone/train'\n",
        "data = dict()\n",
        "\n",
        "for i in os.listdir(train_path):\n",
        "  sub_dir = os.path.join(train_path, i)\n",
        "  count = len(os.listdir(sub_dir))\n",
        "  data[i] = count\n",
        "\n",
        "labels = data.keys()\n",
        "values = data.values()\n",
        "colors = [\"pink\" if x <=150 else \"purple\" for x in values]\n",
        "\n",
        "fig, ax = plt.subplots(figsize=(12,8))\n",
        "position_y = np.arange(len(values))\n",
        "plt.barh(position_y, values, align='center', color=colors)\n",
        "for i , v in enumerate(values):\n",
        "    ax.text(v+1.4 , i-0.25 , str(v), color = colors[i])\n",
        "ax.set_yticks(position_y)\n",
        "ax.set_yticklabels(labels)\n",
        "ax.set_xlabel('Images', fontsize=20)\n",
        "plt.xticks(color='black', fontsize=13)\n",
        "plt.yticks(fontsize=18)\n",
        "plt.show()"
      ]
    },
    {
      "cell_type": "markdown",
      "metadata": {
        "id": "IepZhlCoZ8dy"
      },
      "source": [
        "We observe that there is a shortage of training data for the four classes (semangka, mangga, apel and anggur). It can be help with Data Augmentation by increasing the amount of relevant data in dataset."
      ]
    },
    {
      "cell_type": "code",
      "execution_count": null,
      "metadata": {
        "id": "J9deTcKzZhe4"
      },
      "outputs": [],
      "source": [
        "train_dir = \"/content/drive/MyDrive/Dataset Capstone/train\"\n",
        "images = []\n",
        "\n",
        "for food_dir in sorted(os.listdir(train_dir)):\n",
        "  food_items = os.listdir(train_dir + \"/\" + food_dir)\n",
        "  selected_food = np.random.choice(food_items)\n",
        "  images.append(os.path.join(train_dir, food_dir,selected_food))\n",
        "\n",
        "#visualize it\n",
        "fig = plt.figure(1, figsize = (35,35))\n",
        "for subplot, image_ in enumerate(images):\n",
        "  category = image_ .split(\"/\")[-2]\n",
        "  imgs = plt.imread(image_)\n",
        "  x,y,z = imgs.shape\n",
        "  fig=plt.subplot(5,4,subplot+1)\n",
        "  fig.set_title(category, pad =10, size=18)\n",
        "  plt.imshow(imgs)\n",
        "\n",
        "plt.tight_layout()"
      ]
    },
    {
      "cell_type": "markdown",
      "metadata": {
        "id": "gkvITdKWbwYi"
      },
      "source": [
        "The code randomly selects one image from each food category in the training directory, then displays these images in subplots using matplotlib. This process provides a visual overview of the various food types present in the training dataset, facilitating an understanding of the variation and representation of each food category in the dataset."
      ]
    },
    {
      "cell_type": "markdown",
      "metadata": {
        "id": "7O3fk4A0b2vl"
      },
      "source": [
        "##Training Model and Data Augmentation"
      ]
    },
    {
      "cell_type": "code",
      "execution_count": null,
      "metadata": {
        "id": "OFf-MjfHbyqN"
      },
      "outputs": [],
      "source": [
        "n_classes=8\n",
        "batch_size = 32\n",
        "img_width, img_height= 299, 299\n",
        "\n",
        "path_train = '/content/drive/MyDrive/Dataset Capstone/train'\n",
        "path_valid = '/content/drive/MyDrive/Dataset Capstone/valid'\n",
        "\n",
        "#Augmentation using ImageDataGenerator\n",
        "train_datagen = ImageDataGenerator(\n",
        "    rescale = 1./255,\n",
        "    shear_range = 0.2,\n",
        "    zoom_range = 0.2,\n",
        "    horizontal_flip = True\n",
        ")\n",
        "\n",
        "val_datagen = ImageDataGenerator(\n",
        "    rescale=1./255\n",
        ")\n",
        "\n",
        "train_generator = train_datagen.flow_from_directory(\n",
        "    path_train,\n",
        "    target_size=(img_height, img_width),\n",
        "    batch_size=batch_size,\n",
        "    class_mode='categorical'\n",
        ")\n",
        "\n",
        "valid_generator = val_datagen.flow_from_directory(\n",
        "    path_valid,\n",
        "    target_size=(img_height, img_width),\n",
        "    batch_size=batch_size,\n",
        "    class_mode='categorical'\n",
        ")"
      ]
    },
    {
      "cell_type": "code",
      "execution_count": null,
      "metadata": {
        "id": "70Fi8LnLdO_c"
      },
      "outputs": [],
      "source": [
        "mappin_class=train_generator.class_indices\n",
        "mappin_class"
      ]
    },
    {
      "cell_type": "markdown",
      "metadata": {
        "id": "TFoutt-LdYPW"
      },
      "source": [
        "##Training Model"
      ]
    },
    {
      "cell_type": "code",
      "execution_count": null,
      "metadata": {
        "id": "cjTQxtPQdgzP"
      },
      "outputs": [],
      "source": [
        "train_samples = len(train_generator)\n",
        "valid_samples = len(valid_generator)\n",
        "\n",
        "\n",
        "image_size = [299, 299]\n",
        "inception = InceptionV3(input_shape = image_size + [3] , weights = \"imagenet\" , include_top = False)\n",
        "x = inception.output\n",
        "x = GlobalAveragePooling2D()(x)\n",
        "x = Dense(128 , activation = \"relu\")(x)\n",
        "x = Dropout(0.2)(x)\n"
      ]
    },
    {
      "cell_type": "code",
      "execution_count": null,
      "metadata": {
        "id": "lrIHVDKHekla"
      },
      "outputs": [],
      "source": [
        "predictions = Dense(n_classes , kernel_regularizer = l2(0.005) , activation = \"softmax\")(x)\n",
        "\n",
        "model = Model(inputs = inception.input , outputs = predictions)\n",
        "model.compile(optimizer = SGD(learning_rate=0.0001 , momentum = 0.9) , loss = \"categorical_crossentropy\" , metrics = [\"accuracy\"])"
      ]
    },
    {
      "cell_type": "code",
      "execution_count": null,
      "metadata": {
        "id": "SUPAcQsxeuDh"
      },
      "outputs": [],
      "source": [
        "checkpoints = ModelCheckpoint(filepath = \"cnn_model_capstone\" , verbose = 1 , save_best_only = True)\n",
        "csv_logger = CSVLogger(\"history_cnn_model_capstone.log\")"
      ]
    },
    {
      "cell_type": "code",
      "execution_count": null,
      "metadata": {
        "colab": {
          "base_uri": "https://localhost:8080/"
        },
        "id": "pw8vzCLQe40I",
        "outputId": "6782179c-c076-4687-cb85-d28e116c364c"
      },
      "outputs": [
        {
          "name": "stdout",
          "output_type": "stream",
          "text": [
            "Epoch 1/24\n",
            "41/41 [==============================] - ETA: 0s - loss: 2.0879 - accuracy: 0.2263 \n",
            "Epoch 1: val_loss improved from inf to 1.79451, saving model to cnn_model_capstone\n",
            "41/41 [==============================] - 1383s 33s/step - loss: 2.0879 - accuracy: 0.2263 - val_loss: 1.7945 - val_accuracy: 0.4295\n",
            "Epoch 2/24\n",
            "41/41 [==============================] - ETA: 0s - loss: 1.7711 - accuracy: 0.3899 \n",
            "Epoch 2: val_loss improved from 1.79451 to 1.47777, saving model to cnn_model_capstone\n",
            "41/41 [==============================] - 1294s 32s/step - loss: 1.7711 - accuracy: 0.3899 - val_loss: 1.4778 - val_accuracy: 0.5180\n",
            "Epoch 3/24\n",
            "41/41 [==============================] - ETA: 0s - loss: 1.5488 - accuracy: 0.5061 \n",
            "Epoch 3: val_loss improved from 1.47777 to 1.22736, saving model to cnn_model_capstone\n",
            "41/41 [==============================] - 1306s 32s/step - loss: 1.5488 - accuracy: 0.5061 - val_loss: 1.2274 - val_accuracy: 0.6984\n",
            "Epoch 4/24\n",
            "41/41 [==============================] - ETA: 0s - loss: 1.3487 - accuracy: 0.6131 \n",
            "Epoch 4: val_loss improved from 1.22736 to 1.03878, saving model to cnn_model_capstone\n",
            "41/41 [==============================] - 1485s 36s/step - loss: 1.3487 - accuracy: 0.6131 - val_loss: 1.0388 - val_accuracy: 0.8361\n",
            "Epoch 5/24\n",
            "41/41 [==============================] - ETA: 0s - loss: 1.1712 - accuracy: 0.7179 \n",
            "Epoch 5: val_loss improved from 1.03878 to 0.87977, saving model to cnn_model_capstone\n",
            "41/41 [==============================] - 1489s 36s/step - loss: 1.1712 - accuracy: 0.7179 - val_loss: 0.8798 - val_accuracy: 0.8820\n",
            "Epoch 6/24\n",
            "41/41 [==============================] - ETA: 0s - loss: 1.0392 - accuracy: 0.7783 \n",
            "Epoch 6: val_loss improved from 0.87977 to 0.75109, saving model to cnn_model_capstone\n",
            "41/41 [==============================] - 1426s 35s/step - loss: 1.0392 - accuracy: 0.7783 - val_loss: 0.7511 - val_accuracy: 0.9049\n",
            "Epoch 7/24\n",
            "41/41 [==============================] - ETA: 0s - loss: 0.9231 - accuracy: 0.8150 \n",
            "Epoch 7: val_loss improved from 0.75109 to 0.64481, saving model to cnn_model_capstone\n",
            "41/41 [==============================] - 1385s 34s/step - loss: 0.9231 - accuracy: 0.8150 - val_loss: 0.6448 - val_accuracy: 0.9475\n",
            "Epoch 8/24\n",
            "41/41 [==============================] - ETA: 0s - loss: 0.7849 - accuracy: 0.8670 \n",
            "Epoch 8: val_loss improved from 0.64481 to 0.55992, saving model to cnn_model_capstone\n",
            "41/41 [==============================] - 1316s 32s/step - loss: 0.7849 - accuracy: 0.8670 - val_loss: 0.5599 - val_accuracy: 0.9639\n",
            "Epoch 9/24\n",
            "41/41 [==============================] - ETA: 0s - loss: 0.6998 - accuracy: 0.8792 \n",
            "Epoch 9: val_loss improved from 0.55992 to 0.48721, saving model to cnn_model_capstone\n",
            "41/41 [==============================] - 1298s 32s/step - loss: 0.6998 - accuracy: 0.8792 - val_loss: 0.4872 - val_accuracy: 0.9672\n",
            "Epoch 10/24\n",
            "41/41 [==============================] - ETA: 0s - loss: 0.6328 - accuracy: 0.8899 \n",
            "Epoch 10: val_loss improved from 0.48721 to 0.43410, saving model to cnn_model_capstone\n",
            "41/41 [==============================] - 1312s 32s/step - loss: 0.6328 - accuracy: 0.8899 - val_loss: 0.4341 - val_accuracy: 0.9705\n",
            "Epoch 11/24\n",
            "41/41 [==============================] - ETA: 0s - loss: 0.5760 - accuracy: 0.9021 \n",
            "Epoch 11: val_loss improved from 0.43410 to 0.38631, saving model to cnn_model_capstone\n",
            "41/41 [==============================] - 1299s 32s/step - loss: 0.5760 - accuracy: 0.9021 - val_loss: 0.3863 - val_accuracy: 0.9672\n",
            "Epoch 12/24\n",
            "41/41 [==============================] - ETA: 0s - loss: 0.5094 - accuracy: 0.9235 \n",
            "Epoch 12: val_loss improved from 0.38631 to 0.35055, saving model to cnn_model_capstone\n",
            "41/41 [==============================] - 1321s 32s/step - loss: 0.5094 - accuracy: 0.9235 - val_loss: 0.3505 - val_accuracy: 0.9705\n",
            "Epoch 13/24\n",
            "41/41 [==============================] - ETA: 0s - loss: 0.4788 - accuracy: 0.9182 \n",
            "Epoch 13: val_loss improved from 0.35055 to 0.32198, saving model to cnn_model_capstone\n",
            "41/41 [==============================] - 1294s 32s/step - loss: 0.4788 - accuracy: 0.9182 - val_loss: 0.3220 - val_accuracy: 0.9705\n",
            "Epoch 14/24\n",
            "41/41 [==============================] - ETA: 0s - loss: 0.4234 - accuracy: 0.9365 \n",
            "Epoch 14: val_loss improved from 0.32198 to 0.29806, saving model to cnn_model_capstone\n",
            "41/41 [==============================] - 1291s 31s/step - loss: 0.4234 - accuracy: 0.9365 - val_loss: 0.2981 - val_accuracy: 0.9705\n",
            "Epoch 15/24\n",
            "41/41 [==============================] - ETA: 0s - loss: 0.4131 - accuracy: 0.9404 \n",
            "Epoch 15: val_loss improved from 0.29806 to 0.27975, saving model to cnn_model_capstone\n",
            "41/41 [==============================] - 1289s 31s/step - loss: 0.4131 - accuracy: 0.9404 - val_loss: 0.2798 - val_accuracy: 0.9705\n",
            "Epoch 16/24\n",
            "41/41 [==============================] - ETA: 0s - loss: 0.3750 - accuracy: 0.9434 \n",
            "Epoch 16: val_loss improved from 0.27975 to 0.26319, saving model to cnn_model_capstone\n",
            "41/41 [==============================] - 1291s 32s/step - loss: 0.3750 - accuracy: 0.9434 - val_loss: 0.2632 - val_accuracy: 0.9705\n",
            "Epoch 17/24\n",
            "41/41 [==============================] - ETA: 0s - loss: 0.3546 - accuracy: 0.9472 \n",
            "Epoch 17: val_loss improved from 0.26319 to 0.24879, saving model to cnn_model_capstone\n",
            "41/41 [==============================] - 1330s 32s/step - loss: 0.3546 - accuracy: 0.9472 - val_loss: 0.2488 - val_accuracy: 0.9770\n",
            "Epoch 18/24\n",
            "41/41 [==============================] - ETA: 0s - loss: 0.3490 - accuracy: 0.9434 \n",
            "Epoch 18: val_loss improved from 0.24879 to 0.23817, saving model to cnn_model_capstone\n",
            "41/41 [==============================] - 1297s 32s/step - loss: 0.3490 - accuracy: 0.9434 - val_loss: 0.2382 - val_accuracy: 0.9770\n",
            "Epoch 19/24\n",
            "41/41 [==============================] - ETA: 0s - loss: 0.3151 - accuracy: 0.9534 \n",
            "Epoch 19: val_loss improved from 0.23817 to 0.22845, saving model to cnn_model_capstone\n",
            "41/41 [==============================] - 1308s 32s/step - loss: 0.3151 - accuracy: 0.9534 - val_loss: 0.2285 - val_accuracy: 0.9770\n",
            "Epoch 20/24\n",
            "41/41 [==============================] - ETA: 0s - loss: 0.3122 - accuracy: 0.9518 \n",
            "Epoch 20: val_loss improved from 0.22845 to 0.21870, saving model to cnn_model_capstone\n",
            "41/41 [==============================] - 1305s 32s/step - loss: 0.3122 - accuracy: 0.9518 - val_loss: 0.2187 - val_accuracy: 0.9770\n",
            "Epoch 21/24\n",
            "41/41 [==============================] - ETA: 0s - loss: 0.2865 - accuracy: 0.9534 \n",
            "Epoch 21: val_loss improved from 0.21870 to 0.21305, saving model to cnn_model_capstone\n",
            "41/41 [==============================] - 1300s 32s/step - loss: 0.2865 - accuracy: 0.9534 - val_loss: 0.2131 - val_accuracy: 0.9770\n",
            "Epoch 22/24\n",
            "41/41 [==============================] - ETA: 0s - loss: 0.2919 - accuracy: 0.9595 \n",
            "Epoch 22: val_loss improved from 0.21305 to 0.20372, saving model to cnn_model_capstone\n",
            "41/41 [==============================] - 1405s 34s/step - loss: 0.2919 - accuracy: 0.9595 - val_loss: 0.2037 - val_accuracy: 0.9770\n",
            "Epoch 23/24\n",
            "41/41 [==============================] - ETA: 0s - loss: 0.2746 - accuracy: 0.9610 \n",
            "Epoch 23: val_loss improved from 0.20372 to 0.19681, saving model to cnn_model_capstone\n",
            "41/41 [==============================] - 1326s 32s/step - loss: 0.2746 - accuracy: 0.9610 - val_loss: 0.1968 - val_accuracy: 0.9770\n",
            "Epoch 24/24\n",
            "41/41 [==============================] - ETA: 0s - loss: 0.2591 - accuracy: 0.9610 \n",
            "Epoch 24: val_loss improved from 0.19681 to 0.19345, saving model to cnn_model_capstone\n",
            "41/41 [==============================] - 1309s 32s/step - loss: 0.2591 - accuracy: 0.9610 - val_loss: 0.1934 - val_accuracy: 0.9770\n"
          ]
        }
      ],
      "source": [
        "history = model.fit(\n",
        "    train_generator,\n",
        "    epochs=24,\n",
        "    validation_data=valid_generator,\n",
        "    verbose=1,\n",
        "    callbacks=[csv_logger, checkpoints]\n",
        ")\n",
        "\n",
        "#ngl, i got 10 hours and half to train this model oml\n",
        "#don't get away from colab"
      ]
    },
    {
      "cell_type": "code",
      "execution_count": null,
      "metadata": {
        "id": "Qs9MC7dO-WuR"
      },
      "outputs": [],
      "source": [
        "model.save(\"model_inceptionV3.h5\")"
      ]
    },
    {
      "cell_type": "code",
      "execution_count": null,
      "metadata": {
        "id": "gPw9C1v_JYUz"
      },
      "outputs": [],
      "source": [
        "def plot_accuracy(history):\n",
        "    epochs = range(1, len(history.history['accuracy']) + 1)\n",
        "    train_acc = history.history['accuracy']\n",
        "    val_acc = history.history['val_accuracy']\n",
        "\n",
        "    plt.figure(figsize=(5, 5))\n",
        "    plt.plot(epochs, train_acc, 'b-', label='Training Accuracy')\n",
        "    plt.plot(epochs, val_acc, 'r-', label='Validation Accuracy')\n",
        "    plt.title('Model Accuracy')\n",
        "    plt.xlabel('Epoch')\n",
        "    plt.ylabel('Accuracy')\n",
        "    plt.legend(loc='best')\n",
        "    plt.grid(True)\n",
        "    plt.savefig('Accuracy_v1_InceptionV3.png')\n",
        "    plt.show()"
      ]
    },
    {
      "cell_type": "code",
      "execution_count": null,
      "metadata": {
        "id": "zQkpDGDBJYSm"
      },
      "outputs": [],
      "source": [
        "def plot_loss(history):\n",
        "    epochs = range(1, len(history.history['loss']) + 1)\n",
        "    train_loss = history.history['loss']\n",
        "    val_loss = history.history['val_loss']\n",
        "\n",
        "    plt.figure(figsize=(5, 5))\n",
        "    plt.plot(epochs, train_loss, 'b-', label='Training Loss')\n",
        "    plt.plot(epochs, val_loss, 'r-', label='Validation Loss')\n",
        "    plt.title('Model Loss')\n",
        "    plt.xlabel('Epoch')\n",
        "    plt.ylabel('Loss')\n",
        "    plt.legend(loc='best')\n",
        "    plt.grid(True)\n",
        "    plt.savefig('Loss_v1_InceptionV3.png')\n",
        "    plt.show()"
      ]
    },
    {
      "cell_type": "code",
      "execution_count": null,
      "metadata": {
        "colab": {
          "base_uri": "https://localhost:8080/",
          "height": 957
        },
        "id": "HdsG1NobJYQV",
        "outputId": "e7b0326f-6948-4931-bf91-683bc09953e0"
      },
      "outputs": [
        {
          "data": {
            "image/png": "[encoded data removed]",
            "text/plain": [
              "<Figure size 500x500 with 1 Axes>"
            ]
          },
          "metadata": {},
          "output_type": "display_data"
        },
        {
          "data": {
            "image/png": "[encoded data removed]",
            "text/plain": [
              "<Figure size 500x500 with 1 Axes>"
            ]
          },
          "metadata": {},
          "output_type": "display_data"
        }
      ],
      "source": [
        "plot_accuracy(history)\n",
        "plot_loss(history)"
      ]
    },
    {
      "cell_type": "markdown",
      "metadata": {
        "id": "HH6DCEJI9eI5"
      },
      "source": [
        "## Saving Model to JSON Use TFJS"
      ]
    },
    {
      "cell_type": "code",
      "source": [
        "!pip install tensorflowjs"
      ],
      "metadata": {
        "colab": {
          "base_uri": "https://localhost:8080/",
          "height": 1000
        },
        "collapsed": true,
        "id": "I8lrM9FBVQQI",
        "outputId": "5a44d903-9497-467f-f38f-b1d6c6df915f"
      },
      "execution_count": null,
      "outputs": [
        {
          "output_type": "stream",
          "name": "stdout",
          "text": [
            "Collecting tensorflowjs\n",
            "  Downloading tensorflowjs-4.20.0-py3-none-any.whl (89 kB)\n",
            "\u001b[2K     \u001b[90m━━━━━━━━━━━━━━━━━━━━━━━━━━━━━━━━━━━━━━━━\u001b[0m \u001b[32m89.1/89.1 kB\u001b[0m \u001b[31m1.1 MB/s\u001b[0m eta \u001b[36m0:00:00\u001b[0m\n",
            "\u001b[?25hRequirement already satisfied: flax>=0.7.2 in /usr/local/lib/python3.10/dist-packages (from tensorflowjs) (0.8.4)\n",
            "Requirement already satisfied: importlib_resources>=5.9.0 in /usr/local/lib/python3.10/dist-packages (from tensorflowjs) (6.4.0)\n",
            "Requirement already satisfied: jax>=0.4.13 in /usr/local/lib/python3.10/dist-packages (from tensorflowjs) (0.4.26)\n",
            "Requirement already satisfied: jaxlib>=0.4.13 in /usr/local/lib/python3.10/dist-packages (from tensorflowjs) (0.4.26+cuda12.cudnn89)\n",
            "Requirement already satisfied: tensorflow<3,>=2.13.0 in /usr/local/lib/python3.10/dist-packages (from tensorflowjs) (2.15.0)\n",
            "Requirement already satisfied: tf-keras>=2.13.0 in /usr/local/lib/python3.10/dist-packages (from tensorflowjs) (2.15.1)\n",
            "Collecting tensorflow-decision-forests>=1.5.0 (from tensorflowjs)\n",
            "  Downloading tensorflow_decision_forests-1.9.1-cp310-cp310-manylinux_2_17_x86_64.manylinux2014_x86_64.whl (15.5 MB)\n",
            "\u001b[2K     \u001b[90m━━━━━━━━━━━━━━━━━━━━━━━━━━━━━━━━━━━━━━━━\u001b[0m \u001b[32m15.5/15.5 MB\u001b[0m \u001b[31m43.6 MB/s\u001b[0m eta \u001b[36m0:00:00\u001b[0m\n",
            "\u001b[?25hRequirement already satisfied: six<2,>=1.16.0 in /usr/local/lib/python3.10/dist-packages (from tensorflowjs) (1.16.0)\n",
            "Requirement already satisfied: tensorflow-hub>=0.16.1 in /usr/local/lib/python3.10/dist-packages (from tensorflowjs) (0.16.1)\n",
            "Collecting packaging~=23.1 (from tensorflowjs)\n",
            "  Downloading packaging-23.2-py3-none-any.whl (53 kB)\n",
            "\u001b[2K     \u001b[90m━━━━━━━━━━━━━━━━━━━━━━━━━━━━━━━━━━━━━━━━\u001b[0m \u001b[32m53.0/53.0 kB\u001b[0m \u001b[31m6.1 MB/s\u001b[0m eta \u001b[36m0:00:00\u001b[0m\n",
            "\u001b[?25hRequirement already satisfied: numpy>=1.22 in /usr/local/lib/python3.10/dist-packages (from flax>=0.7.2->tensorflowjs) (1.25.2)\n",
            "Requirement already satisfied: msgpack in /usr/local/lib/python3.10/dist-packages (from flax>=0.7.2->tensorflowjs) (1.0.8)\n",
            "Requirement already satisfied: optax in /usr/local/lib/python3.10/dist-packages (from flax>=0.7.2->tensorflowjs) (0.2.2)\n",
            "Requirement already satisfied: orbax-checkpoint in /usr/local/lib/python3.10/dist-packages (from flax>=0.7.2->tensorflowjs) (0.4.4)\n",
            "Requirement already satisfied: tensorstore in /usr/local/lib/python3.10/dist-packages (from flax>=0.7.2->tensorflowjs) (0.1.45)\n",
            "Requirement already satisfied: rich>=11.1 in /usr/local/lib/python3.10/dist-packages (from flax>=0.7.2->tensorflowjs) (13.7.1)\n",
            "Requirement already satisfied: typing-extensions>=4.2 in /usr/local/lib/python3.10/dist-packages (from flax>=0.7.2->tensorflowjs) (4.12.1)\n",
            "Requirement already satisfied: PyYAML>=5.4.1 in /usr/local/lib/python3.10/dist-packages (from flax>=0.7.2->tensorflowjs) (6.0.1)\n",
            "Requirement already satisfied: ml-dtypes>=0.2.0 in /usr/local/lib/python3.10/dist-packages (from jax>=0.4.13->tensorflowjs) (0.2.0)\n",
            "Requirement already satisfied: opt-einsum in /usr/local/lib/python3.10/dist-packages (from jax>=0.4.13->tensorflowjs) (3.3.0)\n",
            "Requirement already satisfied: scipy>=1.9 in /usr/local/lib/python3.10/dist-packages (from jax>=0.4.13->tensorflowjs) (1.11.4)\n",
            "Requirement already satisfied: absl-py>=1.0.0 in /usr/local/lib/python3.10/dist-packages (from tensorflow<3,>=2.13.0->tensorflowjs) (1.4.0)\n",
            "Requirement already satisfied: astunparse>=1.6.0 in /usr/local/lib/python3.10/dist-packages (from tensorflow<3,>=2.13.0->tensorflowjs) (1.6.3)\n",
            "Requirement already satisfied: flatbuffers>=23.5.26 in /usr/local/lib/python3.10/dist-packages (from tensorflow<3,>=2.13.0->tensorflowjs) (24.3.25)\n",
            "Requirement already satisfied: gast!=0.5.0,!=0.5.1,!=0.5.2,>=0.2.1 in /usr/local/lib/python3.10/dist-packages (from tensorflow<3,>=2.13.0->tensorflowjs) (0.5.4)\n",
            "Requirement already satisfied: google-pasta>=0.1.1 in /usr/local/lib/python3.10/dist-packages (from tensorflow<3,>=2.13.0->tensorflowjs) (0.2.0)\n",
            "Requirement already satisfied: h5py>=2.9.0 in /usr/local/lib/python3.10/dist-packages (from tensorflow<3,>=2.13.0->tensorflowjs) (3.9.0)\n",
            "Requirement already satisfied: libclang>=13.0.0 in /usr/local/lib/python3.10/dist-packages (from tensorflow<3,>=2.13.0->tensorflowjs) (18.1.1)\n",
            "Requirement already satisfied: protobuf!=4.21.0,!=4.21.1,!=4.21.2,!=4.21.3,!=4.21.4,!=4.21.5,<5.0.0dev,>=3.20.3 in /usr/local/lib/python3.10/dist-packages (from tensorflow<3,>=2.13.0->tensorflowjs) (3.20.3)\n",
            "Requirement already satisfied: setuptools in /usr/local/lib/python3.10/dist-packages (from tensorflow<3,>=2.13.0->tensorflowjs) (67.7.2)\n",
            "Requirement already satisfied: termcolor>=1.1.0 in /usr/local/lib/python3.10/dist-packages (from tensorflow<3,>=2.13.0->tensorflowjs) (2.4.0)\n",
            "Requirement already satisfied: wrapt<1.15,>=1.11.0 in /usr/local/lib/python3.10/dist-packages (from tensorflow<3,>=2.13.0->tensorflowjs) (1.14.1)\n",
            "Requirement already satisfied: tensorflow-io-gcs-filesystem>=0.23.1 in /usr/local/lib/python3.10/dist-packages (from tensorflow<3,>=2.13.0->tensorflowjs) (0.37.0)\n",
            "Requirement already satisfied: grpcio<2.0,>=1.24.3 in /usr/local/lib/python3.10/dist-packages (from tensorflow<3,>=2.13.0->tensorflowjs) (1.64.1)\n",
            "Requirement already satisfied: tensorboard<2.16,>=2.15 in /usr/local/lib/python3.10/dist-packages (from tensorflow<3,>=2.13.0->tensorflowjs) (2.15.2)\n",
            "Requirement already satisfied: tensorflow-estimator<2.16,>=2.15.0 in /usr/local/lib/python3.10/dist-packages (from tensorflow<3,>=2.13.0->tensorflowjs) (2.15.0)\n",
            "Requirement already satisfied: keras<2.16,>=2.15.0 in /usr/local/lib/python3.10/dist-packages (from tensorflow<3,>=2.13.0->tensorflowjs) (2.15.0)\n",
            "Requirement already satisfied: pandas in /usr/local/lib/python3.10/dist-packages (from tensorflow-decision-forests>=1.5.0->tensorflowjs) (2.0.3)\n",
            "Collecting tensorflow<3,>=2.13.0 (from tensorflowjs)\n",
            "  Downloading tensorflow-2.16.1-cp310-cp310-manylinux_2_17_x86_64.manylinux2014_x86_64.whl (589.8 MB)\n",
            "\u001b[2K     \u001b[90m━━━━━━━━━━━━━━━━━━━━━━━━━━━━━━━━━━━━━━━━\u001b[0m \u001b[32m589.8/589.8 MB\u001b[0m \u001b[31m1.8 MB/s\u001b[0m eta \u001b[36m0:00:00\u001b[0m\n",
            "\u001b[?25hRequirement already satisfied: wheel in /usr/local/lib/python3.10/dist-packages (from tensorflow-decision-forests>=1.5.0->tensorflowjs) (0.43.0)\n",
            "Collecting wurlitzer (from tensorflow-decision-forests>=1.5.0->tensorflowjs)\n",
            "  Downloading wurlitzer-3.1.0-py3-none-any.whl (8.4 kB)\n",
            "Collecting tf-keras>=2.13.0 (from tensorflowjs)\n",
            "  Downloading tf_keras-2.16.0-py3-none-any.whl (1.7 MB)\n",
            "\u001b[2K     \u001b[90m━━━━━━━━━━━━━━━━━━━━━━━━━━━━━━━━━━━━━━━━\u001b[0m \u001b[32m1.7/1.7 MB\u001b[0m \u001b[31m28.7 MB/s\u001b[0m eta \u001b[36m0:00:00\u001b[0m\n",
            "\u001b[?25hCollecting ydf (from tensorflow-decision-forests>=1.5.0->tensorflowjs)\n",
            "  Downloading ydf-0.4.3-cp310-cp310-manylinux_2_17_x86_64.manylinux2014_x86_64.whl (9.2 MB)\n",
            "\u001b[2K     \u001b[90m━━━━━━━━━━━━━━━━━━━━━━━━━━━━━━━━━━━━━━━━\u001b[0m \u001b[32m9.2/9.2 MB\u001b[0m \u001b[31m27.6 MB/s\u001b[0m eta \u001b[36m0:00:00\u001b[0m\n",
            "\u001b[?25hCollecting h5py>=3.10.0 (from tensorflow<3,>=2.13.0->tensorflowjs)\n",
            "  Downloading h5py-3.11.0-cp310-cp310-manylinux_2_17_x86_64.manylinux2014_x86_64.whl (5.3 MB)\n",
            "\u001b[2K     \u001b[90m━━━━━━━━━━━━━━━━━━━━━━━━━━━━━━━━━━━━━━━━\u001b[0m \u001b[32m5.3/5.3 MB\u001b[0m \u001b[31m29.0 MB/s\u001b[0m eta \u001b[36m0:00:00\u001b[0m\n",
            "\u001b[?25hCollecting ml-dtypes>=0.2.0 (from jax>=0.4.13->tensorflowjs)\n",
            "  Downloading ml_dtypes-0.3.2-cp310-cp310-manylinux_2_17_x86_64.manylinux2014_x86_64.whl (2.2 MB)\n",
            "\u001b[2K     \u001b[90m━━━━━━━━━━━━━━━━━━━━━━━━━━━━━━━━━━━━━━━━\u001b[0m \u001b[32m2.2/2.2 MB\u001b[0m \u001b[31m27.3 MB/s\u001b[0m eta \u001b[36m0:00:00\u001b[0m\n",
            "\u001b[?25hRequirement already satisfied: requests<3,>=2.21.0 in /usr/local/lib/python3.10/dist-packages (from tensorflow<3,>=2.13.0->tensorflowjs) (2.31.0)\n",
            "Collecting tensorboard<2.17,>=2.16 (from tensorflow<3,>=2.13.0->tensorflowjs)\n",
            "  Downloading tensorboard-2.16.2-py3-none-any.whl (5.5 MB)\n",
            "\u001b[2K     \u001b[90m━━━━━━━━━━━━━━━━━━━━━━━━━━━━━━━━━━━━━━━━\u001b[0m \u001b[32m5.5/5.5 MB\u001b[0m \u001b[31m25.0 MB/s\u001b[0m eta \u001b[36m0:00:00\u001b[0m\n",
            "\u001b[?25hCollecting keras>=3.0.0 (from tensorflow<3,>=2.13.0->tensorflowjs)\n",
            "  Downloading keras-3.3.3-py3-none-any.whl (1.1 MB)\n",
            "\u001b[2K     \u001b[90m━━━━━━━━━━━━━━━━━━━━━━━━━━━━━━━━━━━━━━━━\u001b[0m \u001b[32m1.1/1.1 MB\u001b[0m \u001b[31m19.4 MB/s\u001b[0m eta \u001b[36m0:00:00\u001b[0m\n",
            "\u001b[?25hCollecting namex (from keras>=3.0.0->tensorflow<3,>=2.13.0->tensorflowjs)\n",
            "  Downloading namex-0.0.8-py3-none-any.whl (5.8 kB)\n",
            "Collecting optree (from keras>=3.0.0->tensorflow<3,>=2.13.0->tensorflowjs)\n",
            "  Downloading optree-0.11.0-cp310-cp310-manylinux_2_17_x86_64.manylinux2014_x86_64.whl (311 kB)\n",
            "\u001b[2K     \u001b[90m━━━━━━━━━━━━━━━━━━━━━━━━━━━━━━━━━━━━━━━━\u001b[0m \u001b[32m311.2/311.2 kB\u001b[0m \u001b[31m17.8 MB/s\u001b[0m eta \u001b[36m0:00:00\u001b[0m\n",
            "\u001b[?25hRequirement already satisfied: charset-normalizer<4,>=2 in /usr/local/lib/python3.10/dist-packages (from requests<3,>=2.21.0->tensorflow<3,>=2.13.0->tensorflowjs) (3.3.2)\n",
            "Requirement already satisfied: idna<4,>=2.5 in /usr/local/lib/python3.10/dist-packages (from requests<3,>=2.21.0->tensorflow<3,>=2.13.0->tensorflowjs) (3.7)\n",
            "Requirement already satisfied: urllib3<3,>=1.21.1 in /usr/local/lib/python3.10/dist-packages (from requests<3,>=2.21.0->tensorflow<3,>=2.13.0->tensorflowjs) (2.0.7)\n",
            "Requirement already satisfied: certifi>=2017.4.17 in /usr/local/lib/python3.10/dist-packages (from requests<3,>=2.21.0->tensorflow<3,>=2.13.0->tensorflowjs) (2024.6.2)\n",
            "Requirement already satisfied: markdown-it-py>=2.2.0 in /usr/local/lib/python3.10/dist-packages (from rich>=11.1->flax>=0.7.2->tensorflowjs) (3.0.0)\n",
            "Requirement already satisfied: pygments<3.0.0,>=2.13.0 in /usr/local/lib/python3.10/dist-packages (from rich>=11.1->flax>=0.7.2->tensorflowjs) (2.16.1)\n",
            "Requirement already satisfied: markdown>=2.6.8 in /usr/local/lib/python3.10/dist-packages (from tensorboard<2.17,>=2.16->tensorflow<3,>=2.13.0->tensorflowjs) (3.6)\n",
            "Requirement already satisfied: tensorboard-data-server<0.8.0,>=0.7.0 in /usr/local/lib/python3.10/dist-packages (from tensorboard<2.17,>=2.16->tensorflow<3,>=2.13.0->tensorflowjs) (0.7.2)\n",
            "Requirement already satisfied: werkzeug>=1.0.1 in /usr/local/lib/python3.10/dist-packages (from tensorboard<2.17,>=2.16->tensorflow<3,>=2.13.0->tensorflowjs) (3.0.3)\n",
            "Requirement already satisfied: chex>=0.1.86 in /usr/local/lib/python3.10/dist-packages (from optax->flax>=0.7.2->tensorflowjs) (0.1.86)\n",
            "Requirement already satisfied: etils[epath,epy] in /usr/local/lib/python3.10/dist-packages (from orbax-checkpoint->flax>=0.7.2->tensorflowjs) (1.7.0)\n",
            "Requirement already satisfied: nest_asyncio in /usr/local/lib/python3.10/dist-packages (from orbax-checkpoint->flax>=0.7.2->tensorflowjs) (1.6.0)\n",
            "Requirement already satisfied: python-dateutil>=2.8.2 in /usr/local/lib/python3.10/dist-packages (from pandas->tensorflow-decision-forests>=1.5.0->tensorflowjs) (2.8.2)\n",
            "Requirement already satisfied: pytz>=2020.1 in /usr/local/lib/python3.10/dist-packages (from pandas->tensorflow-decision-forests>=1.5.0->tensorflowjs) (2023.4)\n",
            "Requirement already satisfied: tzdata>=2022.1 in /usr/local/lib/python3.10/dist-packages (from pandas->tensorflow-decision-forests>=1.5.0->tensorflowjs) (2024.1)\n",
            "Requirement already satisfied: toolz>=0.9.0 in /usr/local/lib/python3.10/dist-packages (from chex>=0.1.86->optax->flax>=0.7.2->tensorflowjs) (0.12.1)\n",
            "Requirement already satisfied: mdurl~=0.1 in /usr/local/lib/python3.10/dist-packages (from markdown-it-py>=2.2.0->rich>=11.1->flax>=0.7.2->tensorflowjs) (0.1.2)\n",
            "Requirement already satisfied: MarkupSafe>=2.1.1 in /usr/local/lib/python3.10/dist-packages (from werkzeug>=1.0.1->tensorboard<2.17,>=2.16->tensorflow<3,>=2.13.0->tensorflowjs) (2.1.5)\n",
            "Requirement already satisfied: fsspec in /usr/local/lib/python3.10/dist-packages (from etils[epath,epy]->orbax-checkpoint->flax>=0.7.2->tensorflowjs) (2023.6.0)\n",
            "Requirement already satisfied: zipp in /usr/local/lib/python3.10/dist-packages (from etils[epath,epy]->orbax-checkpoint->flax>=0.7.2->tensorflowjs) (3.19.1)\n",
            "Installing collected packages: namex, ydf, wurlitzer, packaging, optree, ml-dtypes, h5py, tensorboard, keras, tensorflow, tf-keras, tensorflow-decision-forests, tensorflowjs\n",
            "  Attempting uninstall: packaging\n",
            "    Found existing installation: packaging 24.0\n",
            "    Uninstalling packaging-24.0:\n",
            "      Successfully uninstalled packaging-24.0\n",
            "  Attempting uninstall: ml-dtypes\n",
            "    Found existing installation: ml-dtypes 0.2.0\n",
            "    Uninstalling ml-dtypes-0.2.0:\n",
            "      Successfully uninstalled ml-dtypes-0.2.0\n",
            "  Attempting uninstall: h5py\n",
            "    Found existing installation: h5py 3.9.0\n",
            "    Uninstalling h5py-3.9.0:\n",
            "      Successfully uninstalled h5py-3.9.0\n",
            "  Attempting uninstall: tensorboard\n",
            "    Found existing installation: tensorboard 2.15.2\n",
            "    Uninstalling tensorboard-2.15.2:\n",
            "      Successfully uninstalled tensorboard-2.15.2\n",
            "  Attempting uninstall: keras\n",
            "    Found existing installation: keras 2.15.0\n",
            "    Uninstalling keras-2.15.0:\n",
            "      Successfully uninstalled keras-2.15.0\n",
            "  Attempting uninstall: tensorflow\n",
            "    Found existing installation: tensorflow 2.15.0\n",
            "    Uninstalling tensorflow-2.15.0:\n",
            "      Successfully uninstalled tensorflow-2.15.0\n",
            "  Attempting uninstall: tf-keras\n",
            "    Found existing installation: tf_keras 2.15.1\n",
            "    Uninstalling tf_keras-2.15.1:\n",
            "      Successfully uninstalled tf_keras-2.15.1\n",
            "Successfully installed h5py-3.11.0 keras-3.3.3 ml-dtypes-0.3.2 namex-0.0.8 optree-0.11.0 packaging-23.2 tensorboard-2.16.2 tensorflow-2.16.1 tensorflow-decision-forests-1.9.1 tensorflowjs-4.20.0 tf-keras-2.16.0 wurlitzer-3.1.0 ydf-0.4.3\n"
          ]
        },
        {
          "output_type": "display_data",
          "data": {
            "application/vnd.colab-display-data+json": {
              "pip_warning": {
                "packages": [
                  "h5py",
                  "keras",
                  "ml_dtypes",
                  "tensorboard",
                  "tensorflow"
                ]
              },
              "id": "9a9cd3767de241a59c6118a05005b92b"
            }
          },
          "metadata": {}
        }
      ]
    },
    {
      "cell_type": "code",
      "execution_count": null,
      "metadata": {
        "colab": {
          "base_uri": "https://localhost:8080/"
        },
        "id": "seBiptnI9gf-",
        "outputId": "e2a3ccfc-6331-4f46-a623-d15f19e0027d"
      },
      "outputs": [
        {
          "output_type": "stream",
          "name": "stdout",
          "text": [
            "2024-06-07 02:09:30.215382: I tensorflow/core/platform/cpu_feature_guard.cc:210] This TensorFlow binary is optimized to use available CPU instructions in performance-critical operations.\n",
            "To enable the following instructions: AVX2 FMA, in other operations, rebuild TensorFlow with the appropriate compiler flags.\n",
            "2024-06-07 02:09:31.958836: W tensorflow/compiler/tf2tensorrt/utils/py_utils.cc:38] TF-TRT Warning: Could not find TensorRT\n"
          ]
        }
      ],
      "source": [
        "saved_model_path = '/content/model_inceptionV3.h5'\n",
        "!tensorflowjs_converter --input_format=keras {saved_model_path} ./"
      ]
    },
    {
      "cell_type": "code",
      "source": [
        "!zip inceptionV3_bin.zip *.bin"
      ],
      "metadata": {
        "colab": {
          "base_uri": "https://localhost:8080/"
        },
        "collapsed": true,
        "id": "7ueNYUBhf49z",
        "outputId": "c51af268-8b8b-49e4-c3e8-a695dc1ede93"
      },
      "execution_count": null,
      "outputs": [
        {
          "output_type": "stream",
          "name": "stdout",
          "text": [
            "  adding: group1-shard10of22.bin (deflated 7%)\n",
            "  adding: group1-shard11of22.bin (deflated 7%)\n",
            "  adding: group1-shard12of22.bin (deflated 7%)\n",
            "  adding: group1-shard13of22.bin (deflated 7%)\n",
            "  adding: group1-shard14of22.bin (deflated 7%)\n",
            "  adding: group1-shard15of22.bin (deflated 7%)\n",
            "  adding: group1-shard16of22.bin (deflated 7%)\n",
            "  adding: group1-shard17of22.bin (deflated 7%)\n",
            "  adding: group1-shard18of22.bin (deflated 7%)\n",
            "  adding: group1-shard19of22.bin (deflated 7%)\n",
            "  adding: group1-shard1of22.bin (deflated 7%)\n",
            "  adding: group1-shard20of22.bin (deflated 8%)\n",
            "  adding: group1-shard21of22.bin (deflated 7%)\n",
            "  adding: group1-shard22of22.bin (deflated 8%)\n",
            "  adding: group1-shard2of22.bin (deflated 7%)\n",
            "  adding: group1-shard3of22.bin (deflated 7%)\n",
            "  adding: group1-shard4of22.bin (deflated 7%)\n",
            "  adding: group1-shard5of22.bin (deflated 7%)\n",
            "  adding: group1-shard6of22.bin (deflated 7%)\n",
            "  adding: group1-shard7of22.bin (deflated 7%)\n",
            "  adding: group1-shard8of22.bin (deflated 7%)\n",
            "  adding: group1-shard9of22.bin (deflated 7%)\n"
          ]
        }
      ]
    },
    {
      "cell_type": "markdown",
      "metadata": {
        "id": "d0OjJdTzJwZI"
      },
      "source": [
        "##Load The Model (.h5)"
      ]
    },
    {
      "cell_type": "code",
      "execution_count": null,
      "metadata": {
        "colab": {
          "base_uri": "https://localhost:8080/"
        },
        "id": "lz1rj1KnJYLQ",
        "outputId": "d9fef70e-409d-40c0-896e-4a1fdcf6ac5b"
      },
      "outputs": [
        {
          "name": "stdout",
          "output_type": "stream",
          "text": [
            "loading the model..\n",
            "Done!\n"
          ]
        }
      ],
      "source": [
        "be.clear_session()\n",
        "model_path = \"./model_inceptionV3.h5\"\n",
        "print(\"loading the model..\")\n",
        "model = load_model(model_path)\n",
        "print(\"Done!\")"
      ]
    },
    {
      "cell_type": "markdown",
      "metadata": {
        "id": "OpfaRRePKKHv"
      },
      "source": [
        "##Testing Model"
      ]
    },
    {
      "cell_type": "code",
      "execution_count": null,
      "metadata": {
        "colab": {
          "base_uri": "https://localhost:8080/"
        },
        "id": "lFwd9uc7KOYk",
        "outputId": "4b6c354a-2422-4100-b09f-91609f9b91d9"
      },
      "outputs": [
        {
          "name": "stdout",
          "output_type": "stream",
          "text": [
            "Found 266 images belonging to 8 classes.\n"
          ]
        }
      ],
      "source": [
        "img_width, img_height= 299, 299\n",
        "batch_size=32\n",
        "\n",
        "test_dir = '/content/drive/MyDrive/Dataset Capstone/test'\n",
        "test_datagen = ImageDataGenerator(rescale = 1./255)\n",
        "\n",
        "test_generator = test_datagen.flow_from_directory(test_dir,\n",
        "                                                 target_size = (img_height , img_width),\n",
        "                                                 batch_size = batch_size,\n",
        "                                                 class_mode = \"categorical\")"
      ]
    },
    {
      "cell_type": "code",
      "execution_count": null,
      "metadata": {
        "colab": {
          "base_uri": "https://localhost:8080/"
        },
        "id": "_F1-7XL7KcXj",
        "outputId": "4253be48-0248-4b28-c5d6-125bdbd1f0c9"
      },
      "outputs": [
        {
          "name": "stdout",
          "output_type": "stream",
          "text": [
            "Test Accuracy : 0.974\n"
          ]
        }
      ],
      "source": [
        "scores = model.evaluate_generator(test_generator)\n",
        "print(\"Test Accuracy : {:.3f}\".format(scores[1]))"
      ]
    },
    {
      "cell_type": "code",
      "execution_count": null,
      "metadata": {
        "id": "u2K1hQFSKcVr"
      },
      "outputs": [],
      "source": [
        "label_food= {'Anggur': 0,\n",
        " 'Apel': 1,\n",
        " 'Ayam Goreng': 2,\n",
        " 'Mangga': 3,\n",
        " 'Nasi Uduk': 4,\n",
        " 'Semangka': 5,\n",
        " 'Soto': 6,\n",
        " 'Tempe Goreng': 7}"
      ]
    },
    {
      "cell_type": "code",
      "execution_count": null,
      "metadata": {
        "id": "MCr13THFMtTU"
      },
      "outputs": [],
      "source": [
        "category = {\n",
        "    0: ['anggur', 'Anggur'],\n",
        "    1: ['apel', 'Apel'],\n",
        "    2: ['ayam_goreng', 'Ayam Goreng'],\n",
        "    3: ['mangga', 'Mangga'],\n",
        "    4: ['nasi_uduk', 'Nasi Uduk'],\n",
        "    5: ['semangka', 'Semangka'],\n",
        "    6: ['soto', 'Soto'],\n",
        "    7: ['tempe_goreng', 'Tempe Goreng']\n",
        "}"
      ]
    },
    {
      "cell_type": "code",
      "execution_count": null,
      "metadata": {
        "id": "MwjiBgiAMtRe"
      },
      "outputs": [],
      "source": [
        "def predict_image(filename , model):\n",
        "    img_ = image.load_img(filename , target_size = (299,299))\n",
        "    img_array = image.img_to_array(img_)\n",
        "    img_processed = np.expand_dims(img_array , axis = 0)\n",
        "    img_processed /= 255.\n",
        "\n",
        "    prediction = model.predict(img_processed)\n",
        "    index = np.argmax(prediction)\n",
        "\n",
        "    plt.title(\"Prediction - {}\".format(category[index][1]))\n",
        "    plt.imshow(img_array)\n",
        "\n",
        "    predicted_label = category[index][1]\n",
        "\n",
        "    with open(\"/content/Nutrisi - Sheet1.csv\") as csvfile:\n",
        "        reader = csv.DictReader(csvfile)\n",
        "        for row in reader:\n",
        "            if row[\"Label\"] == predicted_label:\n",
        "                print(\"Food Name: \", row['Label'])\n",
        "                print(\"Vitamin: \", row[\"Vitamin\"])\n",
        "                print(\"Carbohydrates: \", row[\"Karbohidrat\"])\n",
        "                print(\"Lemak: \", row[\"Lemak\"])\n",
        "                print(\"Protein: \", row[\"Protein\"])\n",
        "                break\n"
      ]
    },
    {
      "cell_type": "markdown",
      "metadata": {
        "id": "BamocQ_wXmQL"
      },
      "source": [
        "## Error Analysis\n",
        "We can try to understand on which kind of images the classifier has trouble."
      ]
    },
    {
      "cell_type": "code",
      "execution_count": null,
      "metadata": {
        "id": "lQgbBFlINgV4"
      },
      "outputs": [],
      "source": [
        "from sklearn.metrics import confusion_matrix\n",
        "import itertools\n",
        "\n",
        "img_width, img_height = 299, 299\n",
        "\n",
        "def labels_confusion_matrix():\n",
        "    folder_path=\"/content/drive/MyDrive/Dataset Capstone/test\"\n",
        "\n",
        "    mapping={}\n",
        "    for i,j in enumerate(sorted(os.listdir(folder_path))):\n",
        "        mapping[j]=i\n",
        "\n",
        "    files=[]\n",
        "    real=[]\n",
        "    predicted=[]\n",
        "\n",
        "    for i in os.listdir(folder_path):\n",
        "\n",
        "        true=os.path.join(folder_path,i)\n",
        "        true=true.split('/')[-1]\n",
        "        true=mapping[true]\n",
        "\n",
        "        for j in os.listdir(os.path.join(folder_path,i)):\n",
        "\n",
        "            img_ = image.load_img(os.path.join(folder_path,i,j), target_size=(img_height, img_width))\n",
        "            img_array = image.img_to_array(img_)\n",
        "            img_processed = np.expand_dims(img_array, axis=0)\n",
        "            img_processed /= 255.\n",
        "            prediction = model.predict(img_processed)\n",
        "            index = np.argmax(prediction)\n",
        "\n",
        "            predicted.append(index)\n",
        "            real.append(true)\n",
        "\n",
        "    return (real,predicted)"
      ]
    },
    {
      "cell_type": "code",
      "execution_count": null,
      "metadata": {
        "id": "WCiA89rvNgRv"
      },
      "outputs": [],
      "source": [
        "def print_confusion_matrix(real,predicted):\n",
        "    cmap=\"viridis\"\n",
        "    cm_plot_labels = [i for i in range(8)]\n",
        "\n",
        "    cm = confusion_matrix(y_true=real, y_pred=predicted)\n",
        "    df_cm = pd.DataFrame(cm,cm_plot_labels,cm_plot_labels)\n",
        "    sns.set(font_scale=1.1)\n",
        "    plt.figure(figsize = (10,10))\n",
        "    s=sns.heatmap(df_cm, annot=True,cmap=cmap)\n",
        "    plt.ylabel('True label')\n",
        "    plt.xlabel('Predicted label')\n",
        "    plt.savefig('confusion_matrix.png')\n",
        "    plt.show()"
      ]
    },
    {
      "cell_type": "code",
      "execution_count": null,
      "metadata": {
        "colab": {
          "background_save": true,
          "base_uri": "https://localhost:8080/"
        },
        "id": "5RbJlmfXNgJ1",
        "outputId": "461b9927-54bb-452e-fd3f-133dbcb60255",
        "collapsed": true
      },
      "outputs": [
        {
          "output_type": "stream",
          "name": "stdout",
          "text": [
            "1/1 [==============================] - 1s 641ms/step\n",
            "1/1 [==============================] - 1s 854ms/step\n",
            "1/1 [==============================] - 1s 575ms/step\n",
            "1/1 [==============================] - 1s 566ms/step\n",
            "1/1 [==============================] - 0s 424ms/step\n",
            "1/1 [==============================] - 0s 467ms/step\n",
            "1/1 [==============================] - 0s 380ms/step\n",
            "1/1 [==============================] - 1s 515ms/step\n",
            "1/1 [==============================] - 0s 393ms/step\n",
            "1/1 [==============================] - 1s 667ms/step\n",
            "1/1 [==============================] - 0s 487ms/step\n",
            "1/1 [==============================] - 0s 463ms/step\n",
            "1/1 [==============================] - 1s 573ms/step\n",
            "1/1 [==============================] - 0s 450ms/step\n",
            "1/1 [==============================] - 0s 478ms/step\n",
            "1/1 [==============================] - 1s 672ms/step\n",
            "1/1 [==============================] - 1s 867ms/step\n",
            "1/1 [==============================] - 1s 817ms/step\n",
            "1/1 [==============================] - 1s 874ms/step\n",
            "1/1 [==============================] - 0s 412ms/step\n",
            "1/1 [==============================] - 0s 434ms/step\n",
            "1/1 [==============================] - 1s 567ms/step\n",
            "1/1 [==============================] - 0s 470ms/step\n",
            "1/1 [==============================] - 1s 574ms/step\n",
            "1/1 [==============================] - 0s 436ms/step\n",
            "1/1 [==============================] - 0s 482ms/step\n",
            "1/1 [==============================] - 0s 478ms/step\n",
            "1/1 [==============================] - 0s 446ms/step\n",
            "1/1 [==============================] - 0s 394ms/step\n",
            "1/1 [==============================] - 1s 501ms/step\n",
            "1/1 [==============================] - 0s 411ms/step\n",
            "1/1 [==============================] - 1s 544ms/step\n",
            "1/1 [==============================] - 0s 413ms/step\n",
            "1/1 [==============================] - 1s 502ms/step\n",
            "1/1 [==============================] - 1s 761ms/step\n",
            "1/1 [==============================] - 0s 395ms/step\n",
            "1/1 [==============================] - 0s 383ms/step\n",
            "1/1 [==============================] - 0s 381ms/step\n",
            "1/1 [==============================] - 0s 272ms/step\n",
            "1/1 [==============================] - 0s 216ms/step\n",
            "1/1 [==============================] - 0s 216ms/step\n",
            "1/1 [==============================] - 0s 221ms/step\n",
            "1/1 [==============================] - 0s 222ms/step\n",
            "1/1 [==============================] - 0s 219ms/step\n",
            "1/1 [==============================] - 0s 221ms/step\n",
            "1/1 [==============================] - 0s 218ms/step\n",
            "1/1 [==============================] - 0s 216ms/step\n",
            "1/1 [==============================] - 0s 221ms/step\n",
            "1/1 [==============================] - 0s 215ms/step\n",
            "1/1 [==============================] - 0s 224ms/step\n",
            "1/1 [==============================] - 0s 222ms/step\n",
            "1/1 [==============================] - 0s 220ms/step\n",
            "1/1 [==============================] - 0s 221ms/step\n",
            "1/1 [==============================] - 0s 223ms/step\n",
            "1/1 [==============================] - 0s 224ms/step\n",
            "1/1 [==============================] - 0s 216ms/step\n",
            "1/1 [==============================] - 0s 216ms/step\n",
            "1/1 [==============================] - 0s 234ms/step\n",
            "1/1 [==============================] - 0s 224ms/step\n",
            "1/1 [==============================] - 0s 220ms/step\n",
            "1/1 [==============================] - 0s 237ms/step\n",
            "1/1 [==============================] - 0s 224ms/step\n",
            "1/1 [==============================] - 0s 216ms/step\n",
            "1/1 [==============================] - 0s 219ms/step\n",
            "1/1 [==============================] - 0s 216ms/step\n",
            "1/1 [==============================] - 0s 229ms/step\n",
            "1/1 [==============================] - 0s 364ms/step\n",
            "1/1 [==============================] - 0s 406ms/step\n",
            "1/1 [==============================] - 0s 382ms/step\n",
            "1/1 [==============================] - 0s 408ms/step\n",
            "1/1 [==============================] - 0s 392ms/step\n",
            "1/1 [==============================] - 0s 393ms/step\n",
            "1/1 [==============================] - 0s 410ms/step\n",
            "1/1 [==============================] - 0s 220ms/step\n",
            "1/1 [==============================] - 0s 229ms/step\n",
            "1/1 [==============================] - 0s 225ms/step\n",
            "1/1 [==============================] - 0s 217ms/step\n",
            "1/1 [==============================] - 0s 218ms/step\n",
            "1/1 [==============================] - 0s 231ms/step\n",
            "1/1 [==============================] - 0s 217ms/step\n",
            "1/1 [==============================] - 0s 221ms/step\n",
            "1/1 [==============================] - 0s 234ms/step\n",
            "1/1 [==============================] - 0s 222ms/step\n",
            "1/1 [==============================] - 0s 227ms/step\n",
            "1/1 [==============================] - 0s 234ms/step\n",
            "1/1 [==============================] - 0s 217ms/step\n",
            "1/1 [==============================] - 0s 219ms/step\n",
            "1/1 [==============================] - 0s 220ms/step\n",
            "1/1 [==============================] - 0s 213ms/step\n",
            "1/1 [==============================] - 0s 227ms/step\n",
            "1/1 [==============================] - 0s 217ms/step\n",
            "1/1 [==============================] - 0s 223ms/step\n",
            "1/1 [==============================] - 0s 229ms/step\n",
            "1/1 [==============================] - 0s 223ms/step\n",
            "1/1 [==============================] - 0s 238ms/step\n",
            "1/1 [==============================] - 0s 219ms/step\n",
            "1/1 [==============================] - 0s 335ms/step\n",
            "1/1 [==============================] - 0s 225ms/step\n",
            "1/1 [==============================] - 0s 303ms/step\n",
            "1/1 [==============================] - 0s 390ms/step\n",
            "1/1 [==============================] - 0s 367ms/step\n",
            "1/1 [==============================] - 0s 401ms/step\n",
            "1/1 [==============================] - 0s 363ms/step\n",
            "1/1 [==============================] - 0s 395ms/step\n",
            "1/1 [==============================] - 0s 215ms/step\n",
            "1/1 [==============================] - 0s 230ms/step\n",
            "1/1 [==============================] - 0s 218ms/step\n",
            "1/1 [==============================] - 0s 217ms/step\n",
            "1/1 [==============================] - 0s 230ms/step\n",
            "1/1 [==============================] - 0s 221ms/step\n",
            "1/1 [==============================] - 0s 218ms/step\n",
            "1/1 [==============================] - 0s 217ms/step\n",
            "1/1 [==============================] - 0s 218ms/step\n",
            "1/1 [==============================] - 0s 221ms/step\n",
            "1/1 [==============================] - 0s 221ms/step\n",
            "1/1 [==============================] - 0s 228ms/step\n",
            "1/1 [==============================] - 0s 214ms/step\n",
            "1/1 [==============================] - 0s 216ms/step\n",
            "1/1 [==============================] - 0s 224ms/step\n",
            "1/1 [==============================] - 0s 214ms/step\n",
            "1/1 [==============================] - 0s 220ms/step\n",
            "1/1 [==============================] - 0s 217ms/step\n",
            "1/1 [==============================] - 0s 222ms/step\n",
            "1/1 [==============================] - 0s 221ms/step\n",
            "1/1 [==============================] - 0s 240ms/step\n",
            "1/1 [==============================] - 0s 223ms/step\n",
            "1/1 [==============================] - 0s 219ms/step\n",
            "1/1 [==============================] - 0s 241ms/step\n",
            "1/1 [==============================] - 0s 227ms/step\n",
            "1/1 [==============================] - 0s 219ms/step\n",
            "1/1 [==============================] - 0s 220ms/step\n",
            "1/1 [==============================] - 0s 218ms/step\n",
            "1/1 [==============================] - 0s 232ms/step\n",
            "1/1 [==============================] - 0s 387ms/step\n",
            "1/1 [==============================] - 0s 386ms/step\n",
            "1/1 [==============================] - 0s 360ms/step\n",
            "1/1 [==============================] - 0s 390ms/step\n",
            "1/1 [==============================] - 0s 381ms/step\n",
            "1/1 [==============================] - 0s 405ms/step\n",
            "1/1 [==============================] - 0s 314ms/step\n",
            "1/1 [==============================] - 0s 218ms/step\n",
            "1/1 [==============================] - 0s 218ms/step\n",
            "1/1 [==============================] - 0s 233ms/step\n",
            "1/1 [==============================] - 0s 221ms/step\n",
            "1/1 [==============================] - 0s 214ms/step\n",
            "1/1 [==============================] - 0s 231ms/step\n",
            "1/1 [==============================] - 0s 220ms/step\n",
            "1/1 [==============================] - 0s 217ms/step\n",
            "1/1 [==============================] - 0s 234ms/step\n",
            "1/1 [==============================] - 0s 219ms/step\n",
            "1/1 [==============================] - 0s 219ms/step\n",
            "1/1 [==============================] - 0s 219ms/step\n",
            "1/1 [==============================] - 0s 218ms/step\n",
            "1/1 [==============================] - 0s 218ms/step\n",
            "1/1 [==============================] - 0s 237ms/step\n",
            "1/1 [==============================] - 0s 221ms/step\n",
            "1/1 [==============================] - 0s 218ms/step\n",
            "1/1 [==============================] - 0s 231ms/step\n",
            "1/1 [==============================] - 0s 215ms/step\n",
            "1/1 [==============================] - 0s 223ms/step\n",
            "1/1 [==============================] - 0s 231ms/step\n",
            "1/1 [==============================] - 0s 217ms/step\n",
            "1/1 [==============================] - 0s 213ms/step\n",
            "1/1 [==============================] - 0s 218ms/step\n",
            "1/1 [==============================] - 0s 219ms/step\n",
            "1/1 [==============================] - 0s 217ms/step\n",
            "1/1 [==============================] - 0s 217ms/step\n",
            "1/1 [==============================] - 0s 215ms/step\n",
            "1/1 [==============================] - 0s 219ms/step\n",
            "1/1 [==============================] - 0s 379ms/step\n",
            "1/1 [==============================] - 0s 373ms/step\n",
            "1/1 [==============================] - 0s 376ms/step\n",
            "1/1 [==============================] - 0s 404ms/step\n",
            "1/1 [==============================] - 0s 379ms/step\n",
            "1/1 [==============================] - 0s 364ms/step\n",
            "1/1 [==============================] - 0s 398ms/step\n",
            "1/1 [==============================] - 0s 227ms/step\n",
            "1/1 [==============================] - 0s 230ms/step\n",
            "1/1 [==============================] - 0s 216ms/step\n",
            "1/1 [==============================] - 0s 219ms/step\n",
            "1/1 [==============================] - 0s 230ms/step\n",
            "1/1 [==============================] - 0s 218ms/step\n",
            "1/1 [==============================] - 0s 215ms/step\n",
            "1/1 [==============================] - 0s 232ms/step\n",
            "1/1 [==============================] - 0s 226ms/step\n",
            "1/1 [==============================] - 0s 365ms/step\n",
            "1/1 [==============================] - 0s 394ms/step\n",
            "1/1 [==============================] - 0s 385ms/step\n",
            "1/1 [==============================] - 0s 378ms/step\n",
            "1/1 [==============================] - 0s 390ms/step\n",
            "1/1 [==============================] - 0s 386ms/step\n",
            "1/1 [==============================] - 0s 347ms/step\n",
            "1/1 [==============================] - 0s 218ms/step\n",
            "1/1 [==============================] - 0s 215ms/step\n",
            "1/1 [==============================] - 0s 213ms/step\n",
            "1/1 [==============================] - 0s 213ms/step\n",
            "1/1 [==============================] - 0s 236ms/step\n",
            "1/1 [==============================] - 0s 225ms/step\n",
            "1/1 [==============================] - 0s 220ms/step\n",
            "1/1 [==============================] - 0s 316ms/step\n",
            "1/1 [==============================] - 0s 388ms/step\n",
            "1/1 [==============================] - 0s 355ms/step\n",
            "1/1 [==============================] - 0s 396ms/step\n",
            "1/1 [==============================] - 0s 382ms/step\n",
            "1/1 [==============================] - 0s 405ms/step\n",
            "1/1 [==============================] - 0s 418ms/step\n",
            "1/1 [==============================] - 0s 223ms/step\n",
            "1/1 [==============================] - 0s 218ms/step\n",
            "1/1 [==============================] - 0s 383ms/step\n",
            "1/1 [==============================] - 0s 414ms/step\n",
            "1/1 [==============================] - 0s 401ms/step\n",
            "1/1 [==============================] - 0s 412ms/step\n",
            "1/1 [==============================] - 0s 394ms/step\n",
            "1/1 [==============================] - 0s 492ms/step\n",
            "1/1 [==============================] - 1s 504ms/step\n",
            "1/1 [==============================] - 0s 405ms/step\n",
            "1/1 [==============================] - 1s 501ms/step\n",
            "1/1 [==============================] - 0s 437ms/step\n",
            "1/1 [==============================] - 0s 412ms/step\n",
            "1/1 [==============================] - 1s 517ms/step\n",
            "1/1 [==============================] - 0s 481ms/step\n",
            "1/1 [==============================] - 0s 404ms/step\n",
            "1/1 [==============================] - 1s 732ms/step\n",
            "1/1 [==============================] - 1s 804ms/step\n",
            "1/1 [==============================] - 1s 745ms/step\n",
            "1/1 [==============================] - 1s 704ms/step\n",
            "1/1 [==============================] - 1s 649ms/step\n",
            "1/1 [==============================] - 1s 673ms/step\n"
          ]
        }
      ],
      "source": [
        "y_true,y_pred=labels_confusion_matrix()\n",
        "print_confusion_matrix(y_true,y_pred)"
      ]
    },
    {
      "cell_type": "code",
      "execution_count": null,
      "metadata": {
        "colab": {
          "background_save": true
        },
        "id": "3oz8s_OZGAbw"
      },
      "outputs": [],
      "source": [
        "cf_matrix = confusion_matrix(true_labels, predicted_classes, normalize='true')\n",
        "plt.figure(figsize = (10,6))\n",
        "sns.heatmap(cf_matrix, annot=True, fmt='.2f', xticklabels = sorted(set(class_names)), yticklabels = sorted(set(class_names)))\n",
        "plt.title('Normalized Confusion Matrix')\n",
        "plt.xlabel('Predicted Classes')\n",
        "plt.ylabel('True Classes')\n",
        "plt.show()"
      ]
    },
    {
      "cell_type": "markdown",
      "metadata": {
        "id": "RXZvzOIoL5Xc"
      },
      "source": [
        "## Wrong Prediction\n",
        "Let's see where the model has given wrong predictions and what were the actual predictions on those images.\n"
      ]
    },
    {
      "cell_type": "code",
      "execution_count": null,
      "metadata": {
        "colab": {
          "background_save": true
        },
        "id": "tGin-yZ3L44f"
      },
      "outputs": [],
      "source": [
        "errors = (true_labels - predicted_classes != 0)\n",
        "y_true_errors = true_labels[errors]\n",
        "y_pred_errors = predicted_classes[errors]"
      ]
    },
    {
      "cell_type": "code",
      "execution_count": null,
      "metadata": {
        "id": "R09P4VeKMbSy"
      },
      "outputs": [],
      "source": [
        "test_images = test_generator.filenames\n",
        "test_img = np.asarray(test_images)[errors]"
      ]
    },
    {
      "cell_type": "code",
      "execution_count": null,
      "metadata": {
        "colab": {
          "background_save": true
        },
        "id": "f0mlG4spRM6E"
      },
      "outputs": [],
      "source": [
        "labels = {value: key for key, value in test_generator.class_indices.items()}\n",
        "\n",
        "print(\"Label Mappings for classes present in the training and validation datasets\\n\")\n",
        "for key, value in labels.items():\n",
        "    print(f\"{key} : {value}\")"
      ]
    },
    {
      "cell_type": "code",
      "execution_count": null,
      "metadata": {
        "id": "ExK8oVk3MpFY"
      },
      "outputs": [],
      "source": [
        "fig, ax = plt.subplots(nrows=2, ncols=5, figsize=(15, 10))\n",
        "idx = 0\n",
        "\n",
        "for i in range(2):\n",
        "    for j in range(5):\n",
        "        idx = np.random.randint(0, len(test_img))\n",
        "        true_index = y_true_errors[idx]\n",
        "        true_label = labels[true_index]\n",
        "        predicted_index = y_pred_errors[idx]\n",
        "        predicted_label = labels[predicted_index]\n",
        "        ax[i, j].set_title(f\"True Label: {true_label} \\n Predicted Label: {predicted_label}\")\n",
        "        img_path = os.path.join(test_dir, test_img[idx])\n",
        "        img = cv2.imread(img_path)\n",
        "        img = cv2.cvtColor(img, cv2.COLOR_BGR2RGB)\n",
        "        ax[i, j].imshow(img)\n",
        "        ax[i, j].axis(\"off\")\n",
        "\n",
        "plt.tight_layout()\n",
        "plt.suptitle('Wrong Predictions Made on Test Set', fontsize=20)\n",
        "plt.show()"
      ]
    }
  ],
  "metadata": {
    "colab": {
      "provenance": []
    },
    "kernelspec": {
      "display_name": "Python 3",
      "name": "python3"
    },
    "language_info": {
      "name": "python"
    }
  },
  "nbformat": 4,
  "nbformat_minor": 0
}